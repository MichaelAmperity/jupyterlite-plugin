{
  "cells": [
    {
      "cell_type": "markdown",
      "metadata": {
        "tags": []
      },
      "source": [
        "## Intro\n",
        "This is a pretty fully featured environment for working with SQL, data, and visualizations within an Amperity tenent. All SQL calls hit the backend the same way as if you were using normal UI (and on the database of the right pane). All python operations, visualizations, and file modifications happen only locally within your browser. \n",
        "\n",
        "Below are key technologies being used:\n",
        "\n",
        "**JupyterLab** is the latest generation of the Jupyter interface. Normally it is served to a web browser from a python kernal but this version is **Jupyter-Lite** which is entirely functional via static web files. \n",
        "\n",
        "**Pyodide** makes this web only version possible. Pyodide is a python kernal translated to web assembly. This means that the python 'server' is really a local webworker of your browser.\n",
        "\n",
        "**Extension/AmpTools/Sanddance** I have taken the above and embedded it into our sql editor page. Then I added tools to translate python sql requests up a number of layers, send it to Amperity, then take the response back down through the layers and turn it into a python dataframe. I also embedded a full screen version of the sanddance visualization that can be used. "
      ]
    },
    {
      "cell_type": "markdown",
      "metadata": {},
      "source": [
        "## Editing and Using Files \n",
        "### (aka it is safe to edit and clean up this page)\n",
        "\n",
        "Couple things to note about files\n",
        "- 'default.ipynb' will always open at the start\n",
        "- Any files can be edited and edits (or new files) will be local to your machine. \n",
        "- Deleting any edited file will revert back the starting one\n",
        "- You can rework this default page however and either delete your version or refer to the copy in the samples folder if you want the reference\n",
        "- Any file can be downloaded (file download or right click in the left pane). Files can also be loaded from your file system (upload icon at the top of the left file browser pane)"
      ]
    },
    {
      "cell_type": "markdown",
      "metadata": {},
      "source": [
        "## Loading and using AmpTools\n",
        "AmpTools allows the triggering of Amperity plugin features \n",
        "- Use amp_help() after it is imported to view information about the commands\n",
        "- The 'await' is required for SQL operations. \n",
        "- Pandas must also be installed prior to running the tools. \n",
        "\n",
        "You can also create a new file and set the file to be SQL color coded. Then use 'await sql_full(open(\"filename\").read())' in a console or a notebook to run your query. \n"
      ]
    },
    {
      "cell_type": "code",
      "execution_count": null,
      "metadata": {
        "tags": [],
        "trusted": true
      },
      "outputs": [],
      "source": [
        "import piplite\n",
        "await piplite.install(\"pandas\")\n",
        "from AmpTools.load import *"
      ]
    },
    {
      "cell_type": "code",
      "execution_count": null,
      "metadata": {
        "trusted": true
      },
      "outputs": [],
      "source": [
        "amp_help()"
      ]
    },
    {
      "cell_type": "markdown",
      "metadata": {},
      "source": [
        "## Sample usage"
      ]
    },
    {
      "cell_type": "markdown",
      "metadata": {},
      "source": [
        "### Queries"
      ]
    },
    {
      "cell_type": "code",
      "execution_count": null,
      "metadata": {
        "trusted": true
      },
      "outputs": [],
      "source": [
        "await sql(\"\"\"\n",
        "select * from Unified_coalesced\n",
        "\"\"\")"
      ]
    },
    {
      "cell_type": "code",
      "execution_count": null,
      "metadata": {
        "trusted": true
      },
      "outputs": [],
      "source": [
        "await sql_full(\"\"\"\n",
        "select * from Unified_coalesced\n",
        "limit 1000\n",
        "\"\"\")"
      ]
    },
    {
      "cell_type": "markdown",
      "metadata": {},
      "source": [
        "### Getting the last run dataframe"
      ]
    },
    {
      "cell_type": "code",
      "execution_count": null,
      "metadata": {
        "trusted": true
      },
      "outputs": [],
      "source": [
        "df = get_last_run()"
      ]
    },
    {
      "cell_type": "markdown",
      "metadata": {},
      "source": [
        "### Creating charts \n",
        "altair, matplotlib, plotly are all supported"
      ]
    },
    {
      "cell_type": "code",
      "execution_count": null,
      "metadata": {
        "trusted": true
      },
      "outputs": [],
      "source": [
        "await piplite.install(\"altair\")\n",
        "import altair as alt\n",
        "import pandas as pd\n",
        "\n",
        "alt.Chart(df).transform_window(\n",
        "    cumulative_count=\"count()\"\n",
        ").mark_bar().encode(\n",
        "    x='state:N',\n",
        "    y='cumulative_count:Q',\n",
        ")"
      ]
    },
    {
      "cell_type": "markdown",
      "metadata": {},
      "source": [
        "### Opening cluster browser"
      ]
    },
    {
      "cell_type": "code",
      "execution_count": null,
      "metadata": {
        "trusted": true
      },
      "outputs": [],
      "source": [
        "open_ampid(\"a29e0779-3599-3ef1-94cc-385f2a57fc69\")"
      ]
    },
    {
      "cell_type": "markdown",
      "metadata": {},
      "source": [
        "### Viewing in sanddance"
      ]
    },
    {
      "cell_type": "code",
      "execution_count": null,
      "metadata": {
        "trusted": true
      },
      "outputs": [],
      "source": [
        "sanddance(df)"
      ]
    }
  ],
  "metadata": {
    "kernelspec": {
      "display_name": "Python 3.10.1 64-bit",
      "language": "python",
      "name": "python3"
    },
    "language_info": {
      "codemirror_mode": {
        "name": "python",
        "version": 3
      },
      "file_extension": ".py",
      "mimetype": "text/x-python",
      "name": "python",
      "nbconvert_exporter": "python",
      "pygments_lexer": "ipython3",
      "version": "3.10.1"
    },
    "toc-showcode": true,
    "vscode": {
      "interpreter": {
        "hash": "369f2c481f4da34e4445cda3fffd2e751bd1c4d706f27375911949ba6bb62e1c"
      }
    }
  },
  "nbformat": 4,
  "nbformat_minor": 4
}
