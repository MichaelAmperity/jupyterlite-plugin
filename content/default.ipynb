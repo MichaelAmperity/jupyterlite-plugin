{
 "cells": [
  {
   "cell_type": "code",
   "execution_count": null,
   "metadata": {},
   "outputs": [],
   "source": "# Use amperity() to view the notebook help\n# (press the 'play' button to the right to do so now)\namperity()"
  }
 ],
 "metadata": {
    "kernelspec": {
        "name": "python",
        "display_name": "Python (Pyodide)",
        "language": "python"
        }
 },
 "nbformat": 4,
 "nbformat_minor": 2
}
