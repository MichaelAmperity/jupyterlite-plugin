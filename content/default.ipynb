{
 "cells": [
  {
   "cell_type": "code",
   "execution_count": null,
   "metadata": {},
   "outputs": [],
   "source": []
  }
 ],
 "metadata": {
    "kernelspec": {
        "name": "python",
        "display_name": "Python (Pyodide)",
        "language": "python"
        }
 },
 "nbformat": 4,
 "nbformat_minor": 2
}
